{
 "cells": [
  {
   "cell_type": "markdown",
   "id": "3d0b0d88-2e15-4604-8d08-2972bc8b7f46",
   "metadata": {},
   "source": [
    "# Part-1 Python Basics (Variables)"
   ]
  },
  {
   "cell_type": "code",
   "execution_count": null,
   "id": "e3c373a0-1d3c-4d56-8549-3c1604ed4ac2",
   "metadata": {},
   "outputs": [],
   "source": [
    "# Q1-Print Your Name with your Father name and Date of birth using suitable escape sequence charactor\n",
    "\n",
    "name = \"Muhammad Siddiq Shah\"\n",
    "father_name = \"Shahnawaz Hussain\"\n",
    "dob = \"05/10/2005\"\n",
    "\n",
    "print(f\" My Name: {name}\")\n",
    "print(f\" Father's Name: {father_name}\")\n",
    "print(f\" Date of Birth: {dob}\")"
   ]
  },
  {
   "cell_type": "code",
   "execution_count": 10,
   "id": "8e2f5fc3-d30d-430d-94b5-c809d295dd44",
   "metadata": {},
   "outputs": [
    {
     "name": "stdout",
     "output_type": "stream",
     "text": [
      " Name: M. Siddiq Shah\n",
      " Education: Inter from Adamjee Govt Science College\n",
      " Profession: Software Engineer\n",
      " Country: Pakistan\n",
      " About Me: I am an aspiring to become a software developer, currently enhancing my skills in modern web technologies. With a solid foundation in \n",
      "           HTML, I am expanding my expertise in TypeScript through the Governor Sindh IT Program. Simultaneously, I am deepening my knowledge \n",
      "           of Python at the Sayalni Mass IT Institute. I am dedicated to building a robust skill set to excel in the dynamic field of software \n",
      "           development.\n"
     ]
    }
   ],
   "source": [
    "# (Q-2) Write your small bio using variables and print it using print function\n",
    "\n",
    "myname = \"M. Siddiq Shah\"\n",
    "myeducation = \"Inter from Adamjee Govt Science College\"\n",
    "myprofession = \"Software Engineer\"\n",
    "country = \"Pakistan\"\n",
    "about_me = '''I am an aspiring to become a software developer, currently enhancing my skills in modern web technologies. With a solid foundation in \n",
    "           HTML, I am expanding my expertise in TypeScript through the Governor Sindh IT Program. Simultaneously, I am deepening my knowledge \n",
    "           of Python at the Sayalni Mass IT Institute. I am dedicated to building a robust skill set to excel in the dynamic field of software \n",
    "           development.'''\n",
    "\n",
    "print(f\" Name: {myname}\")\n",
    "print(f\" Education: {myeducation}\")\n",
    "print(f\" Profession: {myprofession}\")\n",
    "print(f\" Country: {country}\")\n",
    "print(f\" About Me: {about_me}\")"
   ]
  },
  {
   "cell_type": "code",
   "execution_count": null,
   "id": "40138bd2-ed11-4098-a6a5-8c155bc1e175",
   "metadata": {},
   "outputs": [],
   "source": [
    "# (Q-3) Write a program in which use all the operators we can use in Python"
   ]
  },
  {
   "cell_type": "code",
   "execution_count": 9,
   "id": "53166ffe-53ef-4736-83fe-f12bdbd62fdb",
   "metadata": {},
   "outputs": [
    {
     "name": "stdout",
     "output_type": "stream",
     "text": [
      "Addition: 9\n",
      "Subtraction: 5\n",
      "Multiplication: 14\n",
      "Division: 3.5\n",
      "Modulus: 1\n",
      "Exponentiation: 49\n",
      "Floor Division: 3\n",
      "New value of x is: 10\n",
      "New value of y is: 1\n",
      "Second new value of x is: 70\n",
      "Second new value of y is: 0.5\n",
      "x and y is equal?: False\n",
      "x and y is not equal?: True\n",
      "x is greater than y?: True\n",
      "x is less than y?: False\n",
      "x is greater than equal to y?: True\n",
      "x is less than equal to y?: False\n",
      "AND Operator: True\n",
      "OR Operator: True\n",
      "Not Operator: not70 = False\n"
     ]
    }
   ],
   "source": [
    "# Arithmetic Operators\n",
    "x = 7\n",
    "y = 2\n",
    "print(f\"Addition: {x + y}\")\n",
    "print(f\"Subtraction: {x - y}\")\n",
    "print(f\"Multiplication: {x * y}\")\n",
    "print(f\"Division: {x / y}\")\n",
    "print(f\"Modulus: {x % y}\")\n",
    "print(f\"Exponentiation: {x ** y}\")\n",
    "print(f\"Floor Division: {x // y}\")\n",
    "\n",
    "# Assignment Operators\n",
    "x += 3\n",
    "y -= 1\n",
    "print(\"New value of x is:\", x)\n",
    "print(\"New value of y is:\", y)\n",
    "\n",
    "x *= 7\n",
    "y /= 2\n",
    "print(\"Second new value of x is:\", x)\n",
    "print(\"Second new value of y is:\", y)\n",
    "\n",
    "\n",
    "# Comparison Operators\n",
    "print(f\"x and y is equal?: {x == y}\")\n",
    "print(f\"x and y is not equal?: {x != y}\")\n",
    "print(f\"x is greater than y?: {x > y}\")\n",
    "print(f\"x is less than y?: {x < y}\")\n",
    "print(f\"x is greater than equal to y?: {x >= y}\")\n",
    "print(f\"x is less than equal to y?: {x <= y}\")\n",
    "\n",
    "# Logical operators\n",
    "print(f\"AND Operator: {x > 60 and y == 0.5}\")\n",
    "print(f\"OR Operator: {x == 64 or y < 2}\")\n",
    "print(f\"Not Operator: not{x} = {not x}\")"
   ]
  },
  {
   "cell_type": "code",
   "execution_count": 38,
   "id": "75de88d1-9945-4e9b-8d68-3b9a650b7070",
   "metadata": {},
   "outputs": [
    {
     "name": "stdout",
     "output_type": "stream",
     "text": [
      "82.0\n"
     ]
    }
   ],
   "source": [
    "# (Q-4) Completes the following steps of small task:\n",
    "'''Mention Marks of English , Islamiat and Maths out of 100 in 3 different variables\n",
    "Mention Variable of Total Marks and assign 300 to it\n",
    "Calculate Percentage'''\n",
    "\n",
    "MarksofEnglish = 78\n",
    "MarksofMaths = 86\n",
    "MarksofIslamiat = 82\n",
    "sumofmarks = MarksofEnglish + MarksofMaths + MarksofIslamiat\n",
    "TotalMarks = 300\n",
    "percentage = (sumofmarks/ TotalMarks)* 100\n",
    "print(percentage)"
   ]
  },
  {
   "cell_type": "markdown",
   "id": "eabd5281-b1e1-4563-b5b8-58d35ed086c0",
   "metadata": {},
   "source": [
    "# Part-2 Python Basics (Conditional Statements)"
   ]
  },
  {
   "cell_type": "code",
   "execution_count": 14,
   "id": "a445cec3-b163-4a22-8800-77c371d3bdb8",
   "metadata": {},
   "outputs": [
    {
     "name": "stdin",
     "output_type": "stream",
     "text": [
      "Enter Your Salary: 650000\n",
      "Enter Your Year: 4\n"
     ]
    },
    {
     "name": "stdout",
     "output_type": "stream",
     "text": [
      "Unfornuately your year of service is less than 5 years the bonus will not be added to your salary\n"
     ]
    }
   ],
   "source": [
    "# (Q-1) A company decided to give bonus of 5% to employee if his/her year of service is more than 5 years. Ask user for their salary and year of\n",
    "#       service and print the net bonus amount.\n",
    "\n",
    "usersalary = int(input(\"Enter Your Salary:\"))\n",
    "useryear = int(input(\"Enter Your Year:\"))\n",
    "bonus = usersalary*0.05\n",
    "newamount = usersalary + bonus\n",
    "if useryear > 5:\n",
    "    print(f\"Congratulations 5% bonus is add in your salary.\")\n",
    "    print(f\"The New Salary is: {newamount} \")\n",
    "else:\n",
    "    print(f\"Unfornuately your year of service is less than 5 years the bonus will not be added to your salary\")"
   ]
  },
  {
   "cell_type": "code",
   "execution_count": 17,
   "id": "533a7f1d-219a-459c-a120-7aad8d042cb8",
   "metadata": {},
   "outputs": [
    {
     "name": "stdin",
     "output_type": "stream",
     "text": [
      "Enter Your Age 67\n"
     ]
    },
    {
     "name": "stdout",
     "output_type": "stream",
     "text": [
      "You are eligible for vote\n"
     ]
    }
   ],
   "source": [
    "# (Q-2) Write a program to check whether a person is eligible for voting or not. (accept age from user) if age is greater than 17 eligible otherwise \n",
    "#       not eligible\n",
    "\n",
    "\n",
    "personage = int(input(\"Enter Your Age\"))\n",
    "if personage > 17:\n",
    "    print(\"You are eligible for vote\")\n",
    "else:\n",
    "    print(\"Not eligible, your age is less than 17\")"
   ]
  },
  {
   "cell_type": "code",
   "execution_count": 21,
   "id": "ebe8bb00-4a4f-4b9a-809e-f8c803fe57c2",
   "metadata": {},
   "outputs": [
    {
     "name": "stdin",
     "output_type": "stream",
     "text": [
      "Enter a number 5\n"
     ]
    },
    {
     "name": "stdout",
     "output_type": "stream",
     "text": [
      "You entered an odd number: 5\n"
     ]
    }
   ],
   "source": [
    "# (Q-3) Write a program to check whether a number entered by user is even or odd.\n",
    "\n",
    "number =int(input(\"Enter your number:\"))\n",
    "if number % 2 == 0:\n",
    "    print(f\"You entered an even number: {number}\")\n",
    "else:\n",
    "    print(f\"You entered an odd number: {number}\")"
   ]
  },
  {
   "cell_type": "code",
   "execution_count": 40,
   "id": "5a8b65f8-e2f9-4a4f-abfd-8861a7e3ddb4",
   "metadata": {},
   "outputs": [
    {
     "name": "stdin",
     "output_type": "stream",
     "text": [
      "Enter your number 70\n"
     ]
    },
    {
     "name": "stdout",
     "output_type": "stream",
     "text": [
      "The number you entered is a divisble of 7\n"
     ]
    }
   ],
   "source": [
    "# (Q-4) Write a program to check whether a number is divisible by 7 or not. Show Answer\n",
    "\n",
    "number = int(input(\"Enter your number\"))\n",
    "if number % 7 == 0:\n",
    "    print(\"The number you entered is a divisble of 7\")\n",
    "else:\n",
    "    print(\"The number you entered is not a divisble of 7\")\n",
    "    "
   ]
  },
  {
   "cell_type": "code",
   "execution_count": 24,
   "id": "8cfbaf63-0e14-4e03-bcba-e2f647a26fb9",
   "metadata": {},
   "outputs": [
    {
     "name": "stdin",
     "output_type": "stream",
     "text": [
      "Enter a number 6\n"
     ]
    },
    {
     "name": "stdout",
     "output_type": "stream",
     "text": [
      "Bye\n"
     ]
    }
   ],
   "source": [
    "# (Q-5) Write a program to display \"Hello\" if a number entered by user is a multiple of five , otherwise print \"Bye\".\n",
    "\n",
    "number = int(input(\"Enter your number\"))\n",
    "if number % 5 == 0:\n",
    "    print(\"Hello\")\n",
    "else:\n",
    "    print(\"Bye\")"
   ]
  },
  {
   "cell_type": "code",
   "execution_count": 36,
   "id": "686a4ab1-e112-49ee-bfd8-b61b3949e645",
   "metadata": {},
   "outputs": [
    {
     "name": "stdin",
     "output_type": "stream",
     "text": [
      "Enter your Number 63\n"
     ]
    },
    {
     "name": "stdout",
     "output_type": "stream",
     "text": [
      "The Last digit of Your Number is: 3\n"
     ]
    }
   ],
   "source": [
    "# (Q-7)\n",
    "number = int(input('Enter your Number'))\n",
    "lastdigit = number % 10\n",
    "print(f\"The Last digit of Your Number is: {lastdigit}\")"
   ]
  },
  {
   "cell_type": "code",
   "execution_count": 38,
   "id": "ba382c51-ec5e-4bcb-a821-925f94e31c79",
   "metadata": {},
   "outputs": [
    {
     "name": "stdin",
     "output_type": "stream",
     "text": [
      "Enter the value of length 8\n",
      "Enter the value of breath 8\n"
     ]
    },
    {
     "name": "stdout",
     "output_type": "stream",
     "text": [
      "This is Square\n"
     ]
    }
   ],
   "source": [
    "# (Q-9) Take values of length and breadth of a rectangle from user and print if it is square or rectangle.\n",
    "\n",
    "length = int(input(\"Enter the value of length\"))\n",
    "breath = int(input(\"Enter the value of breath\"))\n",
    "if length == breath:\n",
    "    print(\"This is Square\")\n",
    "else:\n",
    "    print(\"This is rectangle\")"
   ]
  },
  {
   "cell_type": "code",
   "execution_count": 50,
   "id": "c726c860-26f5-4b53-a7a0-008de5b5a726",
   "metadata": {},
   "outputs": [
    {
     "name": "stdin",
     "output_type": "stream",
     "text": [
      "Enter your first number 6\n",
      "Enter your second number 9\n"
     ]
    },
    {
     "name": "stdout",
     "output_type": "stream",
     "text": [
      "The number of 9 is greater than 6\n"
     ]
    }
   ],
   "source": [
    "# (Q-10) Take two int values from user and print greatest among them.\n",
    "\n",
    "value1 = int(input(\"Enter your first number\"))\n",
    "value2 = int(input(\"Enter your second number\"))\n",
    "if value1>value2:\n",
    "    print(f\"The number {value1} is greater than {value2}\")\n",
    "else:\n",
    "    print(f\"The number of {value2} is greater than {value1}\")\n"
   ]
  },
  {
   "cell_type": "code",
   "execution_count": 60,
   "id": "24170101-002c-4a29-8f66-d4759d495954",
   "metadata": {},
   "outputs": [
    {
     "name": "stdin",
     "output_type": "stream",
     "text": [
      "Enter Your Marks 78\n"
     ]
    },
    {
     "name": "stdout",
     "output_type": "stream",
     "text": [
      "Your Grade is B\n"
     ]
    }
   ],
   "source": [
    "# (Q-12) '''A school has following rules for grading system:\n",
    "# a. Below 25 - F\n",
    "\n",
    "# b. 25 to 45 - E\n",
    "\n",
    "# c. 45 to 50 - D\n",
    "\n",
    "# d. 50 to 60 - C\n",
    "\n",
    "# e. 60 to 80 - B\n",
    "\n",
    "# f. Above 80 - A\n",
    "\n",
    "# Ask user to enter marks and print the corresponding grade.'''\n",
    "\n",
    "marks = int(input(\"Enter Your Marks\"))\n",
    "if marks <= 25:\n",
    "    print(\"Your Grade is F\")\n",
    "elif marks <= 45:\n",
    "    print(\"Your Grade is E\")\n",
    "elif marks <= 50:\n",
    "    print(\"Your Grade is D\")\n",
    "elif marks <= 60:\n",
    "    print(\"Your Grade is C\")\n",
    "elif marks <= 80:\n",
    "    print(\"Your Grade is B\")\n",
    "else:\n",
    "    print(\"Your Grade is A\")"
   ]
  },
  {
   "cell_type": "code",
   "execution_count": 5,
   "id": "68993c11-0f06-4abf-9377-6497a4190104",
   "metadata": {},
   "outputs": [
    {
     "name": "stdin",
     "output_type": "stream",
     "text": [
      "Entered the total no. of classes held 4\n",
      "Entered the total no. of classes attended 4\n"
     ]
    },
    {
     "name": "stdout",
     "output_type": "stream",
     "text": [
      "You are eligible to attend the class\n"
     ]
    }
   ],
   "source": [
    "# A student will not be allowed to sit in exam if his/her attendence is less than 75%.\n",
    "\n",
    "# Take following input from user\n",
    "\n",
    "# Number of classes held\n",
    "\n",
    "# Number of classes attended.\n",
    "\n",
    "# And print\n",
    "\n",
    "# percentage of class attended\n",
    "\n",
    "# Is student is allowed to sit in exam or not.\n",
    "\n",
    "Number_of_classes_held = int(input(\"Entered the total no. of classes held\"))\n",
    "Number_of_classes_attended = int(input(\"Entered the total no. of classes attended\"))\n",
    "class_attended = (Number_of_classes_held / Number_of_classes_attended)*100\n",
    "if class_attended >= 75:\n",
    "    print(\"You are eligible to attend the class\")\n",
    "else:\n",
    "    print(\"Your are not eligible to attend the class\")"
   ]
  },
  {
   "cell_type": "code",
   "execution_count": null,
   "id": "39a23ebc-f82d-416d-9aff-ee1466eea75e",
   "metadata": {},
   "outputs": [],
   "source": [
    "# Modify the above question to allow student to sit if he/she has medical cause.\n",
    "# Ask user if he/she has medical cause or not ( 'Y' or 'N' ) and print accordingly."
   ]
  },
  {
   "cell_type": "code",
   "execution_count": 20,
   "id": "c21a5233-d3ac-4216-967f-c27630659950",
   "metadata": {},
   "outputs": [
    {
     "name": "stdin",
     "output_type": "stream",
     "text": [
      "Entered the total no. of classes held 9\n",
      "Entered the total no. of classes attended 8\n",
      "Did you have medical cause Y/N y\n"
     ]
    },
    {
     "name": "stdout",
     "output_type": "stream",
     "text": [
      "Due to medical cause you can attend this exam\n"
     ]
    }
   ],
   "source": [
    "Number_of_classes_held = int(input(\"Entered the total no. of classes held\"))\n",
    "Number_of_classes_attended = int(input(\"Entered the total no. of classes attended\"))\n",
    "class_attended = (Number_of_classes_held / Number_of_classes_attended)*100\n",
    "medical_cause = (input(\"Did you have medical cause Y/N\"))\n",
    "if medical_cause == 'y':\n",
    "    print(\"Due to medical cause you can attend this exam\")\n",
    "elif class_attended >= 75:\n",
    "    print(\"You are eligible to attend this exam\")\n",
    "else:\n",
    "    print(\"You ate not eligible to attend this exam\")"
   ]
  },
  {
   "cell_type": "code",
   "execution_count": 22,
   "id": "6d359561-1fd9-41e3-80c8-ce3250f55261",
   "metadata": {},
   "outputs": [
    {
     "name": "stdin",
     "output_type": "stream",
     "text": [
      "Enter Your Age 25\n",
      "Enter Your Gender M/F f\n",
      "Enter Your marital status Y/N y\n"
     ]
    },
    {
     "name": "stdout",
     "output_type": "stream",
     "text": [
      "You can only work in Urban Areas\n"
     ]
    }
   ],
   "source": []
  },
  {
   "cell_type": "code",
   "execution_count": 29,
   "id": "92b86d03-27cc-4ca2-8410-09277c9c2e38",
   "metadata": {},
   "outputs": [
    {
     "name": "stdin",
     "output_type": "stream",
     "text": [
      "Enter your age 25\n",
      "Enter your gender M or F M\n",
      "Enter your marital status Y or N Y\n"
     ]
    },
    {
     "name": "stdout",
     "output_type": "stream",
     "text": [
      "You can work anywhere\n"
     ]
    }
   ],
   "source": [
    "# Ask user to enter age, gender ( M or F ), marital status ( Y or N ) and then using following rules print their place of service.\n",
    "\n",
    "# if employee is female, then she will work only in urban areas.\n",
    "\n",
    "# if employee is a male and age is in between 20 to 40 then he may work in anywhere\n",
    "\n",
    "# if employee is male and age is in between 40 t0 60 then he will work in urban areas only.\n",
    "\n",
    "# And any other input of age should print \"ERROR\"\n",
    "\n",
    "\n",
    "employee_age = int(input(\"Enter your age\"))\n",
    "employee_gender = input(\"Enter your gender M or F\")\n",
    "employee_marital_status = input(\"Enter your marital status Y or N\")\n",
    "if employee_gender == \"f\":\n",
    "    print(\"You  can  work only in urban areas\")\n",
    "elif employee_gender == \"M\" and 20 < employee_age < 40:\n",
    "    print(\"You can work anywhere\")\n",
    "elif employee_gender == \"M\" and 40 < employee_age < 60:\n",
    "    print(\"You can  work only in urban areas\")\n",
    "else:\n",
    "    print(\"ERROR\")\n"
   ]
  },
  {
   "cell_type": "code",
   "execution_count": 23,
   "id": "01e14fc3-2f09-427c-bd6f-785f9161ea60",
   "metadata": {},
   "outputs": [
    {
     "name": "stdin",
     "output_type": "stream",
     "text": [
      "Enter your items quantity 2\n"
     ]
    },
    {
     "name": "stdout",
     "output_type": "stream",
     "text": [
      "Your amount is: 200 \n",
      "Unfortunately you will not get 10% discount and your final amount is: 200\n"
     ]
    }
   ],
   "source": [
    "# A shop will give discount of 10% if the cost of purchased quantity is more than 1000. Ask user for quantity Suppose, one unit will cost 100.\n",
    "# Judge and print total cost for user.\n",
    "\n",
    "quantity =int(input(\"Enter your items quantity\"))\n",
    "amount_of_one_quantity = 100\n",
    "total_amount = quantity * amount_of_one_quantity\n",
    "print(f\"Your amount is: {total_amount} \")\n",
    "discount = total_amount * 0.1\n",
    "discounted_amount = total_amount - discount\n",
    "if quantity > 10:\n",
    "    print(f\"Congratulations you will get 10% discount and the total amount after discount: {discounted_amount}\")    \n",
    "else:\n",
    "    print(f\"Unfortunately you will not get 10% discount and your final amount is: {total_amount}\")"
   ]
  },
  {
   "cell_type": "code",
   "execution_count": 26,
   "id": "4317a964-c130-4fbb-89f1-65673117bf6b",
   "metadata": {},
   "outputs": [
    {
     "name": "stdin",
     "output_type": "stream",
     "text": [
      "Enter your num of units 99\n"
     ]
    },
    {
     "name": "stdout",
     "output_type": "stream",
     "text": [
      "This month there is no charge in your bill\n"
     ]
    }
   ],
   "source": [
    "# Write a program to calculate the electricity bill (accept number of unit from user) according to the following criteria : Unit Price\n",
    "# uptp 100 units no charge Next 200 units Rs 5 per unit After 200 units Rs 10 per unit (For example if input unit is 350 than total bill amount \n",
    "# is Rs.3500 (For example if input unit is 97 than total bill amount is Rs.0 (For example if input unit is 150 than total bill amount is Rs.750\n",
    "\n",
    "num_of_units = int(input(\"Enter your num of units\"))\n",
    "if num_of_units < 100:\n",
    "    print(\"This month there is no charge in your bill\")\n",
    "elif 100 < num_of_units < 200:\n",
    "    charged_units = num_of_units * 5\n",
    "    print(f\"This month there is Rs 5 charged per unit in your bill: {charged_units}\")\n",
    "elif  num_of_units > 200:\n",
    "    charged_units = num_of_units * 10\n",
    "    print(f\"This month there is Rs 10 charged per unit in your bill: {charged_units}\")\n",
    "else:\n",
    "    print(\"Enter a valid number\")"
   ]
  },
  {
   "cell_type": "code",
   "execution_count": null,
   "id": "4fc7e676-cbc4-40cc-bcce-9f06138cc273",
   "metadata": {},
   "outputs": [],
   "source": []
  },
  {
   "cell_type": "code",
   "execution_count": 10,
   "id": "19b663c1-7377-42ca-b2a4-70d429f4d1a3",
   "metadata": {},
   "outputs": [
    {
     "name": "stdin",
     "output_type": "stream",
     "text": [
      "Enter your age 455\n",
      "Enter your age 566\n",
      "Enter your age 788\n"
     ]
    },
    {
     "name": "stdout",
     "output_type": "stream",
     "text": [
      "c is the oldest: 788\n",
      "a is the youngest: 455\n"
     ]
    }
   ],
   "source": [
    "# Take input of age of 3 people by user and determine oldest and youngest among them.\n",
    "\n",
    "a = int(input(\"Enter your age\"))\n",
    "b = int(input(\"Enter your age\"))\n",
    "c = int(input(\"Enter your age\"))\n",
    "\n",
    "if(a > b and a > c):\n",
    "    print(f\"a is the oldest: {a}\")\n",
    "\n",
    "elif(b > a and b > c):\n",
    "    print(f\"b is the oldest: {b}\")\n",
    "\n",
    "elif(c > a and c > b):\n",
    "    print(f\"c is the oldest: {c}\")\n",
    "\n",
    "if(a < b and a < c):\n",
    "    print(f\"a is the youngest: {a}\")\n",
    "\n",
    "elif(b < a and b < c):\n",
    "    print(f\"b is the youngest: {b}\")\n",
    "\n",
    "elif(c < a and c < b):\n",
    "    print(f\"c is the oldest: {c}\")\n"
   ]
  },
  {
   "cell_type": "code",
   "execution_count": 15,
   "id": "f12c60a2-cc7b-4e15-a499-3476debdc30c",
   "metadata": {},
   "outputs": [
    {
     "name": "stdin",
     "output_type": "stream",
     "text": [
      "Enter your year 40\n"
     ]
    },
    {
     "name": "stdout",
     "output_type": "stream",
     "text": [
      "Your is not a leap year\n"
     ]
    }
   ],
   "source": [
    "# Write a program to check if a year is leap year or not.\n",
    "# If a year is divisible by 4 then it is leap year but if the year is century year like 2000, 1900, 2100 then it must be divisible by 400.\n",
    "\n",
    "\n",
    "userLeapYear=int(input(\"Enter your year\"))\n",
    "if userLeapYear %4 == 0 and userLeapYear %400 == 0:\n",
    "    print(f\"Your Year is a leap year: {userLeapYear}\")\n",
    "else:\n",
    "    print(\"Your is not a leap year\")"
   ]
  },
  {
   "cell_type": "code",
   "execution_count": null,
   "id": "e72e5be0-3e71-4b01-ae0a-61afb2e23ea8",
   "metadata": {},
   "outputs": [],
   "source": []
  }
 ],
 "metadata": {
  "kernelspec": {
   "display_name": "Python 3 (ipykernel)",
   "language": "python",
   "name": "python3"
  },
  "language_info": {
   "codemirror_mode": {
    "name": "ipython",
    "version": 3
   },
   "file_extension": ".py",
   "mimetype": "text/x-python",
   "name": "python",
   "nbconvert_exporter": "python",
   "pygments_lexer": "ipython3",
   "version": "3.11.7"
  }
 },
 "nbformat": 4,
 "nbformat_minor": 5
}
